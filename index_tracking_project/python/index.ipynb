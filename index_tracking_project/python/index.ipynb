{
 "cells": [
  {
   "cell_type": "markdown",
   "id": "1972c9b6",
   "metadata": {},
   "source": [
    "# Constants "
   ]
  },
  {
   "cell_type": "code",
   "execution_count": 278,
   "id": "f58e6d2d",
   "metadata": {},
   "outputs": [],
   "source": [
    "import pandas as pd # for loading xlsx files\n",
    "import os\n",
    "import numpy as np"
   ]
  },
  {
   "cell_type": "code",
   "execution_count": 279,
   "id": "344329ef",
   "metadata": {},
   "outputs": [],
   "source": [
    "# changing directory to 'project root dir' \n",
    "BASE_DIR = os.path.split(os.path.abspath(''))[0]\n",
    "data_name = 'Dataset4'\n",
    "\n",
    "data_add = os.path.join(BASE_DIR, 'Data' , data_name + '.xlsx')\n",
    "Sheet_names= ['IS_R','OS_R','OS_P']\n",
    "\n",
    "#print('.ls:')\n",
    "#%ls"
   ]
  },
  {
   "cell_type": "markdown",
   "id": "a4befdce",
   "metadata": {},
   "source": [
    "# 1) Loading data / Adding to Gams WS / Exporting gdx"
   ]
  },
  {
   "cell_type": "code",
   "execution_count": 280,
   "id": "e6d1899c",
   "metadata": {},
   "outputs": [],
   "source": [
    "# 1.1 loading data\n",
    "i = 100\n",
    "t_train = 104\n",
    "t_test = 52\n",
    "dum = 1\n",
    "lower = 0.01\n",
    "upper = 0.3\n",
    "c1 = 10\n",
    "c2 = 15\n",
    "\n",
    "df_IS = pd.read_excel(io = data_add, sheet_name = Sheet_names[0],engine='openpyxl')\n",
    "df_OS = pd.read_excel(io = data_add, sheet_name =Sheet_names[1],engine='openpyxl')\n",
    "#df_IS.info()\n",
    "#df_IS.head()\n",
    "#df_IS.tail()\n",
    "\n",
    "# choose a c\n",
    "c = c1\n"
   ]
  },
  {
   "cell_type": "code",
   "execution_count": 281,
   "id": "b072fa46",
   "metadata": {},
   "outputs": [],
   "source": [
    "# 1.2) Creating GAMS workspace and a db object from it:\n",
    "import gams\n",
    "ws = gams.workspace.GamsWorkspace(BASE_DIR)\n",
    "opt = ws.add_options()\n",
    "db = ws.add_database()\n",
    "opt.defines[\"gdxincname\"] = db.name"
   ]
  },
  {
   "cell_type": "code",
   "execution_count": 282,
   "id": "91a960e5",
   "metadata": {},
   "outputs": [],
   "source": [
    "# 1.2) adding Sets and Parameters to our db:\n",
    "i_set = db.add_set('i', 1)\n",
    "for ip in range(1,i+1):\n",
    "    i_set.add_record(str(ip))\n",
    "\n",
    "t_set = db.add_set('t', 1)\n",
    "for ip in range(1,t_train+1):\n",
    "    t_set.add_record(str(ip))\n",
    "\n",
    "dum_set = db.add_set('dum', 1)\n",
    "dum_set.add_record('1')\n",
    "\n",
    "c_param = db.add_parameter_dc('c', [dum_set])\n",
    "c_param.add_record('1').value = c\n",
    "\n",
    "lower_param = db.add_parameter_dc('lower', [i_set])\n",
    "for ip in range(1,i+1):\n",
    "    lower_param.add_record(str(ip)).value = lower\n",
    "\n",
    "upper_param = db.add_parameter_dc('upper', [i_set])\n",
    "for ip in range(1,i+1):\n",
    "    upper_param.add_record(str(ip)).value = upper\n",
    "    \n",
    "ir_param = db.add_parameter_dc('ir', [t_set])\n",
    "for ip in range(1,t_train+1):\n",
    "    ir_param.add_record(str(ip)).value = df_IS[ip][100]\n",
    "\n",
    "i_param = db.add_parameter_dc('r', [i_set,t_set])\n",
    "for ip in range(1,i+1):\n",
    "    for tp in range(1,t_train+1):\n",
    "        i_param.add_record((str(ip),str(tp))).value = df_IS[tp][ip-1]\n"
   ]
  },
  {
   "cell_type": "markdown",
   "id": "af7f0289",
   "metadata": {},
   "source": [
    "# 2) Running Model / Receiving variables results"
   ]
  },
  {
   "cell_type": "code",
   "execution_count": 283,
   "id": "55b962ef",
   "metadata": {},
   "outputs": [],
   "source": [
    "# 2.1) run\n",
    "model = ws.add_job_from_file(\"index.gms\")\n",
    "model.run(opt, databases = db)"
   ]
  },
  {
   "cell_type": "code",
   "execution_count": 284,
   "id": "b6045d85",
   "metadata": {},
   "outputs": [],
   "source": [
    "# 2.2) Receive results\n",
    "objective_function = {}\n",
    "for rec in model.out_db['z']:\n",
    "    objective_function.setdefault('obj', rec.level) "
   ]
  },
  {
   "cell_type": "code",
   "execution_count": 285,
   "id": "1ed3675a",
   "metadata": {},
   "outputs": [],
   "source": [
    "delta = {}\n",
    "for rec in model.out_db['delta']:\n",
    "    delta.setdefault(rec.key(0), rec.level)"
   ]
  },
  {
   "cell_type": "code",
   "execution_count": 286,
   "id": "1f869030",
   "metadata": {},
   "outputs": [],
   "source": [
    "x = {}\n",
    "for rec in model.out_db['x']:\n",
    "    x.setdefault(rec.key(0), rec.level)"
   ]
  },
  {
   "cell_type": "code",
   "execution_count": 300,
   "id": "c3c2b3c5",
   "metadata": {},
   "outputs": [
    {
     "data": {
      "text/plain": [
       "{'1': 0.0,\n",
       " '2': 0.0,\n",
       " '3': 0.0,\n",
       " '4': 0.0,\n",
       " '5': 0.0,\n",
       " '6': 0.009999999999999946,\n",
       " '7': 0.0,\n",
       " '8': 0.0,\n",
       " '9': 0.0,\n",
       " '10': 0.0,\n",
       " '11': 0.0,\n",
       " '12': 0.010000000000000028,\n",
       " '13': 0.0,\n",
       " '14': 0.27999999999999997,\n",
       " '15': 0.0,\n",
       " '16': 0.0,\n",
       " '17': 0.0,\n",
       " '18': 0.0,\n",
       " '19': 0.0,\n",
       " '20': 0.0,\n",
       " '21': 0.01,\n",
       " '22': 0.0,\n",
       " '23': 0.0,\n",
       " '24': 0.3,\n",
       " '25': 0.0,\n",
       " '26': 0.010000000000000009,\n",
       " '27': 0.0,\n",
       " '28': 0.0,\n",
       " '29': 0.0,\n",
       " '30': 0.0,\n",
       " '31': 0.0,\n",
       " '32': 0.01,\n",
       " '33': 0.0,\n",
       " '34': 0.0,\n",
       " '35': 0.0,\n",
       " '36': 0.009999999999999995,\n",
       " '37': 0.0,\n",
       " '38': 0.0,\n",
       " '39': 0.0,\n",
       " '40': 0.0,\n",
       " '41': 0.0,\n",
       " '42': 0.0,\n",
       " '43': 0.01,\n",
       " '44': 0.01,\n",
       " '45': 0.0,\n",
       " '46': 0.0,\n",
       " '47': 0.0,\n",
       " '48': 0.0,\n",
       " '49': 0.0,\n",
       " '50': 0.0,\n",
       " '51': 0.0,\n",
       " '52': 0.0,\n",
       " '53': 0.0,\n",
       " '54': 0.01,\n",
       " '55': 0.0,\n",
       " '56': 0.0,\n",
       " '57': 0.0,\n",
       " '58': 0.0,\n",
       " '59': 0.0,\n",
       " '60': 0.01,\n",
       " '61': 0.0,\n",
       " '62': 0.0,\n",
       " '63': 0.0,\n",
       " '64': 0.0,\n",
       " '65': 0.0,\n",
       " '66': 0.0,\n",
       " '67': 0.0,\n",
       " '68': 0.0,\n",
       " '69': 0.0,\n",
       " '70': 0.0,\n",
       " '71': 0.0,\n",
       " '72': 0.0,\n",
       " '73': 0.009999999999999969,\n",
       " '74': 0.3,\n",
       " '75': 0.0,\n",
       " '76': 0.0,\n",
       " '77': 0.0,\n",
       " '78': 0.0,\n",
       " '79': 0.0,\n",
       " '80': 0.0,\n",
       " '81': 0.0,\n",
       " '82': 0.0,\n",
       " '83': 0.0,\n",
       " '84': 0.0,\n",
       " '85': 0.0,\n",
       " '86': 0.0,\n",
       " '87': 0.0,\n",
       " '88': 0.0,\n",
       " '89': 0.0,\n",
       " '90': 0.0,\n",
       " '91': 0.01,\n",
       " '92': 0.0,\n",
       " '93': 0.0,\n",
       " '94': 0.0,\n",
       " '95': 0.0,\n",
       " '96': 0.0,\n",
       " '97': 0.0,\n",
       " '98': 0.0,\n",
       " '99': 0.0,\n",
       " '100': 0.0}"
      ]
     },
     "execution_count": 300,
     "metadata": {},
     "output_type": "execute_result"
    }
   ],
   "source": [
    "x"
   ]
  },
  {
   "cell_type": "markdown",
   "id": "2e643ab2",
   "metadata": {},
   "source": [
    "# 3) read assets return and calculate price of portfolio and index"
   ]
  },
  {
   "cell_type": "code",
   "execution_count": 287,
   "id": "63cc7b29",
   "metadata": {},
   "outputs": [],
   "source": [
    "import numpy as np\n",
    "assets_number = 100"
   ]
  },
  {
   "cell_type": "code",
   "execution_count": 288,
   "id": "f4d4b760",
   "metadata": {},
   "outputs": [],
   "source": [
    "test_assets_return = np.zeros((assets_number,t_test))\n",
    "\n",
    "for t in range(t_test):\n",
    "    for n in range(assets_number):\n",
    "        test_assets_return[n][t] = float(df_OS[t + 1][n + 1])\n"
   ]
  },
  {
   "cell_type": "code",
   "execution_count": 289,
   "id": "f8f100fb",
   "metadata": {},
   "outputs": [],
   "source": [
    "# calculate price of portfolio\n",
    "portfolio_price = np.zeros(t_test + 1)\n",
    "\n",
    "for t in range(1,(t_test + 1)):\n",
    "    value = 0\n",
    "    for nb in range(1,assets_number + 1):\n",
    "        val = 1\n",
    "        for t_prime in range(1,t+1):\n",
    "            val *= ( 1 + test_assets_return[nb-1][t_prime-1])\n",
    "        value += x[str(nb)] * val\n",
    "    \n",
    "    portfolio_price [t] =  value     "
   ]
  },
  {
   "cell_type": "code",
   "execution_count": 290,
   "id": "8ae23aea",
   "metadata": {},
   "outputs": [],
   "source": [
    "test_index_return = np.zeros(t_test )\n",
    "\n",
    "for t in range(t_test):\n",
    "    test_index_return[t] = float(df_OS[t+1][100])"
   ]
  },
  {
   "cell_type": "code",
   "execution_count": 291,
   "id": "6681ca41",
   "metadata": {},
   "outputs": [],
   "source": [
    "#calculate index return of portfolio\n",
    "test_index_price = np.zeros(t_test + 1)\n",
    "\n",
    "for t in range(1,(t_test + 1)):\n",
    "    value = 1 \n",
    "    for t_prime in range(1,t+1):\n",
    "        value *= ( 1 + test_index_return[t_prime-1])\n",
    "    test_index_price [t] =  value"
   ]
  },
  {
   "cell_type": "markdown",
   "id": "b03a72fb",
   "metadata": {},
   "source": [
    "# 4) Visualizing the price of index and portfolio"
   ]
  },
  {
   "cell_type": "code",
   "execution_count": 292,
   "id": "32d3a7de",
   "metadata": {},
   "outputs": [],
   "source": [
    "import matplotlib.pyplot as plt\n",
    "import matplotlib.pyplot as figure\n",
    "import pandas as pd"
   ]
  },
  {
   "cell_type": "code",
   "execution_count": 293,
   "id": "4d8e353b",
   "metadata": {},
   "outputs": [],
   "source": [
    "index_and_portfolio_price = np.stack([test_index_price[1:], portfolio_price[1:]], axis = 0)\n",
    "index_and_portfolio_price = index_and_portfolio_price.T"
   ]
  },
  {
   "cell_type": "code",
   "execution_count": 294,
   "id": "e54b55d1",
   "metadata": {},
   "outputs": [
    {
     "data": {
      "text/plain": [
       "<Figure size 432x288 with 0 Axes>"
      ]
     },
     "metadata": {},
     "output_type": "display_data"
    },
    {
     "data": {
      "image/png": "[encoded data removed]",
      "text/plain": [
       "<Figure size 432x288 with 1 Axes>"
      ]
     },
     "metadata": {
      "needs_background": "light"
     },
     "output_type": "display_data"
    }
   ],
   "source": [
    "index_and_portfolio_price_df = pd.DataFrame(index_and_portfolio_price, index = range(1,t_test + 1), columns = [\"index\",\"portfolio\"])\n",
    "\n",
    "plt.figure(); index_and_portfolio_price_df.plot(); plt.legend(loc='best')\n",
    "plt.savefig(os.path.join(BASE_DIR,'price_result', str(c2) + '_' + data_name + '.png'))"
   ]
  },
  {
   "cell_type": "markdown",
   "id": "894f8647",
   "metadata": {},
   "source": [
    "# 5) calculate total return of portfolio and index"
   ]
  },
  {
   "cell_type": "code",
   "execution_count": 295,
   "id": "ade40866",
   "metadata": {},
   "outputs": [],
   "source": [
    "portfolio_return = np.zeros(t_test + 1)\n",
    "\n",
    "for t in range(1,(t_test + 1)):\n",
    "    value = 0\n",
    "    for nb in range(1,assets_number + 1):\n",
    "        value += x[str(nb)] * test_assets_return[nb-1][t-1]\n",
    "    portfolio_return [t] =  value    "
   ]
  },
  {
   "cell_type": "code",
   "execution_count": 296,
   "id": "619e31a6",
   "metadata": {},
   "outputs": [],
   "source": [
    "portfolio_total_return = np.ones(t_test + 1)\n",
    "\n",
    "for t in range(1,(t_test + 1)): \n",
    "    portfolio_total_return [t] =  ( 1 + portfolio_return[t]) * portfolio_total_return [t-1]"
   ]
  },
  {
   "cell_type": "code",
   "execution_count": 297,
   "id": "a3da7bd7",
   "metadata": {},
   "outputs": [],
   "source": [
    "index_total_return = np.zeros(t_test + 1)\n",
    "\n",
    "for t in range(1,(t_test + 1)):\n",
    "    value = 1 \n",
    "    for t_prime in range(1,t+1):\n",
    "        value *= ( 1 + test_index_return[t_prime-1])\n",
    "    index_total_return [t] =  value"
   ]
  },
  {
   "cell_type": "markdown",
   "id": "f777d882",
   "metadata": {},
   "source": [
    "# 7)visualysing total return of portfolio and index"
   ]
  },
  {
   "cell_type": "code",
   "execution_count": 298,
   "id": "b1cf287d",
   "metadata": {},
   "outputs": [],
   "source": [
    "index_and_portfolio_total_return = np.stack([index_total_return[1:], portfolio_total_return[1:]], axis = 0)\n",
    "index_and_portfolio_total_return = index_and_portfolio_total_return.T"
   ]
  },
  {
   "cell_type": "code",
   "execution_count": 299,
   "id": "d4eb5240",
   "metadata": {},
   "outputs": [
    {
     "data": {
      "text/plain": [
       "<Figure size 432x288 with 0 Axes>"
      ]
     },
     "metadata": {},
     "output_type": "display_data"
    },
    {
     "data": {
      "image/png": "[encoded data removed]",
      "text/plain": [
       "<Figure size 432x288 with 1 Axes>"
      ]
     },
     "metadata": {
      "needs_background": "light"
     },
     "output_type": "display_data"
    }
   ],
   "source": [
    "index_and_portfolio_total_return_df = pd.DataFrame(index_and_portfolio_total_return, index = range(1,t_test + 1), columns = [\"index\",\"portfolio\"])\n",
    "\n",
    "plt.figure(); index_and_portfolio_total_return_df.plot(); plt.legend(loc='best')\n",
    "plt.savefig(os.path.join(BASE_DIR,'total_return_result', str(c2)+'_'+ data_name + '.png'))"
   ]
  },
  {
   "cell_type": "code",
   "execution_count": null,
   "id": "5c2edccb",
   "metadata": {},
   "outputs": [],
   "source": []
  }
 ],
 "metadata": {
  "kernelspec": {
   "display_name": "Python [conda env:gmsjupyter] *",
   "language": "python",
   "name": "conda-env-gmsjupyter-py"
  },
  "language_info": {
   "codemirror_mode": {
    "name": "ipython",
    "version": 3
   },
   "file_extension": ".py",
   "mimetype": "text/x-python",
   "name": "python",
   "nbconvert_exporter": "python",
   "pygments_lexer": "ipython3",
   "version": "3.6.13"
  }
 },
 "nbformat": 4,
 "nbformat_minor": 5
}
