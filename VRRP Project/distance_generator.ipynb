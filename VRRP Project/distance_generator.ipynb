{
 "cells": [
  {
   "cell_type": "code",
   "execution_count": 7,
   "metadata": {
    "id": "9feG2VCEls7i"
   },
   "outputs": [],
   "source": [
    "# init point = center \n",
    "\n",
    "center = [(0,0)]\n",
    "\n",
    "# gas station  = f \n",
    "f = [ (7,-1),(-1,1)]\n",
    "\n",
    "# costumers = v \n",
    "v=[(1,-1),(2,-1),(5,-1),(5,2),(4,2),(-1,3),(-1,4),(-3,4),(-1,6),(-3,7),]\n",
    "\n",
    "all = center + v  + f\n",
    "\n",
    "# all points  = a \n",
    "v_len = len(v)\n",
    "f_len = len(f)\n",
    "c_len = len(center)\n",
    "a = v_len + f_len + c_len\n",
    "\n",
    "# matrices of parameters \n",
    "d = [[0 for i in range(a)] for i in range(a)]\n",
    "\n",
    "from scipy.spatial import distance\n",
    "\n",
    "for k in range(a):\n",
    "    for kk in range(a):\n",
    "        d[k][kk] = round(distance.euclidean(all[k], all[kk]),1)\n",
    "\n",
    "sc = [1 for i in range(v_len)]\n",
    "sf = [2 for i in range(f_len)]"
   ]
  },
  {
   "cell_type": "code",
   "execution_count": 8,
   "metadata": {
    "colab": {
     "base_uri": "https://localhost:8080/"
    },
    "id": "EN9dS1BupUMt",
    "outputId": "8e60964d-11b5-4fcc-e716-a4b600044555"
   },
   "outputs": [],
   "source": [
    "#print(d)"
   ]
  },
  {
   "cell_type": "code",
   "execution_count": 10,
   "metadata": {
    "colab": {
     "base_uri": "https://localhost:8080/"
    },
    "id": "MDDdGzobpVcu",
    "outputId": "75dd265a-c643-4fa3-b265-1b7f16838f77"
   },
   "outputs": [
    {
     "name": "stdout",
     "output_type": "stream",
     "text": [
      "<class 'int'>\n"
     ]
    }
   ],
   "source": [
    "from scipy.spatial import distance\n",
    "a = center[0]\n",
    "b = v[0] \n",
    "\n",
    "print(type(int(distance.euclidean(a, b))))\n"
   ]
  },
  {
   "cell_type": "code",
   "execution_count": 11,
   "metadata": {
    "colab": {
     "base_uri": "https://localhost:8080/",
     "height": 36
    },
    "id": "1XHlE7sOu7fy",
    "outputId": "893b2ba2-d8bf-49b5-ee8d-9d62c2f222c6"
   },
   "outputs": [
    {
     "data": {
      "text/plain": [
       "'C:\\\\Users\\\\Mohamadreza.a\\\\Downloads'"
      ]
     },
     "execution_count": 11,
     "metadata": {},
     "output_type": "execute_result"
    }
   ],
   "source": [
    "%pwd"
   ]
  },
  {
   "cell_type": "code",
   "execution_count": 12,
   "metadata": {
    "id": "yvYVWDe5qfgD"
   },
   "outputs": [],
   "source": [
    "import pandas as pd\n",
    "\n",
    "array = d\n",
    "\n",
    "df = pd.DataFrame(array).T\n",
    "df.to_excel(excel_writer = \"VRRP.xlsx\")"
   ]
  },
  {
   "cell_type": "code",
   "execution_count": null,
   "metadata": {
    "id": "Bvf-C913r2sP"
   },
   "outputs": [],
   "source": []
  }
 ],
 "metadata": {
  "colab": {
   "collapsed_sections": [],
   "name": "Untitled0.ipynb",
   "provenance": []
  },
  "kernelspec": {
   "display_name": "Python 3 (ipykernel)",
   "language": "python",
   "name": "python3"
  },
  "language_info": {
   "codemirror_mode": {
    "name": "ipython",
    "version": 3
   },
   "file_extension": ".py",
   "mimetype": "text/x-python",
   "name": "python",
   "nbconvert_exporter": "python",
   "pygments_lexer": "ipython3",
   "version": "3.9.7"
  }
 },
 "nbformat": 4,
 "nbformat_minor": 1
}
