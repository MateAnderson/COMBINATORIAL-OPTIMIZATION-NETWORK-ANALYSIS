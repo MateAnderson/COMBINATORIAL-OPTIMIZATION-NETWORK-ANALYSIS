{
 "cells": [
  {
   "cell_type": "markdown",
   "id": "1972c9b6",
   "metadata": {},
   "source": [
    "# Constants "
   ]
  },
  {
   "cell_type": "code",
   "execution_count": 14,
   "id": "f58e6d2d",
   "metadata": {},
   "outputs": [],
   "source": [
    "import pandas as pd # for loading xlsx files"
   ]
  },
  {
   "cell_type": "code",
   "execution_count": 27,
   "id": "344329ef",
   "metadata": {},
   "outputs": [
    {
     "name": "stdout",
     "output_type": "stream",
     "text": [
      "C:\\Users\\Mohamadreza.a\\Music\\index_tracking_problem\n"
     ]
    }
   ],
   "source": [
    "# changing directory to 'project root dir' \n",
    "BASE_DIR = \"C:\\\\Users\\\\Mohamadreza.a\\\\Music\\\\index_tracking_problem\"\n",
    "%cd C:\\Users\\Mohamadreza.a\\Music\\index_tracking_problem\n",
    "\n",
    "gdx_name = \"g1.gdx\" \n",
    "data_add = 'Data\\Dataset1.xlsx'\n",
    "Sheet_names= ['IS_R','OS_R','OS_P']\n",
    "\n",
    "#print('.ls:')\n",
    "#%ls"
   ]
  },
  {
   "cell_type": "markdown",
   "id": "a4befdce",
   "metadata": {},
   "source": [
    "# 1) Loading data / Adding to Gams WS / Exporting gdx"
   ]
  },
  {
   "cell_type": "code",
   "execution_count": 34,
   "id": "e6d1899c",
   "metadata": {},
   "outputs": [],
   "source": [
    "# 1.1 loading data\n",
    "i = 100\n",
    "t_train = 104\n",
    "t_test = 52\n",
    "dum = 1\n",
    "lower = 0.01\n",
    "upper = 0.3\n",
    "c1 = 10\n",
    "c2 = 15\n",
    "df_IS = pd.read_excel(io = data_add, sheet_name = Sheet_names[0],engine='openpyxl')\n",
    "df_OS = pd.read_excel(io = data_add, sheet_name =Sheet_names[1],engine='openpyxl')\n",
    "#df_IS.info()\n",
    "#df_IS.head()\n",
    "#df_IS.tail()\n"
   ]
  },
  {
   "cell_type": "code",
   "execution_count": 31,
   "id": "b072fa46",
   "metadata": {},
   "outputs": [],
   "source": [
    "# 1.2) Creating GAMS workspace and a db object from it:\n",
    "import gams\n",
    "ws = gams.workspace.GamsWorkspace(BASE_DIR)\n",
    "db = ws.add_database()"
   ]
  },
  {
   "cell_type": "code",
   "execution_count": 32,
   "id": "91a960e5",
   "metadata": {},
   "outputs": [],
   "source": [
    "# 1.2) adding Sets and Parameters to our db:\n",
    "i_set = db.add_set('i', 1)\n",
    "for ip in range(1,i+1):\n",
    "    i_set.add_record(str(ip))\n",
    "\n",
    "t_set = db.add_set('t', 1)\n",
    "for ip in range(1,t_train+1):\n",
    "    t_set.add_record(str(ip))\n",
    "\n",
    "dum_set = db.add_set('dum', 1)\n",
    "dum_set.add_record('1')\n",
    "\n",
    "c_param = db.add_parameter_dc('c', [dum_set])\n",
    "c_param.add_record('1').value = c1\n",
    "\n",
    "lower_param = db.add_parameter_dc('lower', [i_set])\n",
    "for ip in range(1,i+1):\n",
    "    lower_param.add_record(str(ip)).value = lower\n",
    "\n",
    "upper_param = db.add_parameter_dc('upper', [i_set])\n",
    "for ip in range(1,i+1):\n",
    "    upper_param.add_record(str(ip)).value = upper\n",
    "    \n",
    "ir_param = db.add_parameter_dc('ir', [t_set])\n",
    "for ip in range(1,t_train+1):\n",
    "    ir_param.add_record(str(ip)).value = df_IS[ip][100]\n",
    "\n",
    "i_param = db.add_parameter_dc('r', [i_set,t_set])\n",
    "for ip in range(1,i+1):\n",
    "    for tp in range(1,t_train+1):\n",
    "        i_param.add_record((str(ip),str(tp))).value = df_IS[tp][ip-1]\n"
   ]
  },
  {
   "cell_type": "code",
   "execution_count": 33,
   "id": "b94df2eb",
   "metadata": {},
   "outputs": [],
   "source": [
    "# 1.3) exporting gdx for manual running!\n",
    "db.export(gdx_name)"
   ]
  },
  {
   "cell_type": "markdown",
   "id": "af7f0289",
   "metadata": {},
   "source": [
    "# 2) Running Model / Receiving variables results"
   ]
  },
  {
   "cell_type": "code",
   "execution_count": null,
   "id": "55b962ef",
   "metadata": {},
   "outputs": [],
   "source": [
    "# 2.1) run\n",
    "model = ws.add_job_from_file(\"index.gms\")\n",
    "model.run()"
   ]
  },
  {
   "cell_type": "code",
   "execution_count": null,
   "id": "b6045d85",
   "metadata": {},
   "outputs": [],
   "source": [
    "# 2.2) Receive results"
   ]
  },
  {
   "cell_type": "markdown",
   "id": "b03a72fb",
   "metadata": {},
   "source": [
    "# 3) Visualizing the result"
   ]
  },
  {
   "cell_type": "code",
   "execution_count": null,
   "id": "fbc21c4e",
   "metadata": {},
   "outputs": [],
   "source": []
  }
 ],
 "metadata": {
  "kernelspec": {
   "display_name": "Python [conda env:gmsjupyter] *",
   "language": "python",
   "name": "conda-env-gmsjupyter-py"
  },
  "language_info": {
   "codemirror_mode": {
    "name": "ipython",
    "version": 3
   },
   "file_extension": ".py",
   "mimetype": "text/x-python",
   "name": "python",
   "nbconvert_exporter": "python",
   "pygments_lexer": "ipython3",
   "version": "3.6.13"
  }
 },
 "nbformat": 4,
 "nbformat_minor": 5
}
