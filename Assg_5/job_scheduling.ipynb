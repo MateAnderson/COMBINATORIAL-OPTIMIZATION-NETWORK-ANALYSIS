{
 "cells": [
  {
   "cell_type": "code",
   "execution_count": 7,
   "id": "c13225db",
   "metadata": {},
   "outputs": [],
   "source": [
    "import gams\n",
    "ws = gams.workspace.GamsWorkspace(working_directory = 'C:\\\\Users\\\\Mohamadreza.a\\\\Downloads\\\\job')"
   ]
  },
  {
   "cell_type": "code",
   "execution_count": 8,
   "id": "f654673d",
   "metadata": {},
   "outputs": [],
   "source": [
    "i_python = [str(i) for i in range(1,8)]\n",
    "staff_python={\"1\": 17 ,\"2\": 13 ,\"3\": 15 ,\"4\": 19 ,\"5\": 14 ,\"6\": 16 ,\"7\": 11}"
   ]
  },
  {
   "cell_type": "code",
   "execution_count": 9,
   "id": "048dfbcc",
   "metadata": {},
   "outputs": [],
   "source": [
    "db = ws.add_database()\n",
    "\n",
    "i = db.add_set('i', 1)\n",
    "for ip in i_python:\n",
    "    i.add_record(ip)\n",
    "    \n",
    "staff = db.add_parameter_dc('staff', [i])\n",
    "for ip in i_python:\n",
    "    staff.add_record(ip).value = staff_python.get(ip) \n",
    "\n",
    "db.export('C:\\\\Users\\\\Mohamadreza.a\\\\Downloads\\\\job\\\\job_data.gdx')\n"
   ]
  },
  {
   "cell_type": "code",
   "execution_count": 10,
   "id": "056a7281",
   "metadata": {},
   "outputs": [],
   "source": [
    "model = ws.add_job_from_file(\"C:\\\\Users\\\\Mohamadreza.a\\\\Downloads\\\\job\\\\job_scheduling.gms\")"
   ]
  },
  {
   "cell_type": "code",
   "execution_count": 11,
   "id": "c75d46c6",
   "metadata": {},
   "outputs": [],
   "source": [
    "model.run()"
   ]
  },
  {
   "cell_type": "code",
   "execution_count": 12,
   "id": "820a20af",
   "metadata": {},
   "outputs": [
    {
     "name": "stdout",
     "output_type": "stream",
     "text": [
      "[6. 4. 1. 8. 0. 4. 0.]\n"
     ]
    }
   ],
   "source": [
    "import numpy as np\n",
    "x = np.zeros(7)\n",
    "for rec in model.out_db[\"x\"] :\n",
    "    x[int(rec.key(0)) - 1] = rec.level\n",
    "print(x)    "
   ]
  },
  {
   "cell_type": "code",
   "execution_count": null,
   "id": "88e39afc",
   "metadata": {},
   "outputs": [],
   "source": []
  }
 ],
 "metadata": {
  "kernelspec": {
   "display_name": "Python 3 (ipykernel)",
   "language": "python",
   "name": "python3"
  },
  "language_info": {
   "codemirror_mode": {
    "name": "ipython",
    "version": 3
   },
   "file_extension": ".py",
   "mimetype": "text/x-python",
   "name": "python",
   "nbconvert_exporter": "python",
   "pygments_lexer": "ipython3",
   "version": "3.9.7"
  }
 },
 "nbformat": 4,
 "nbformat_minor": 5
}
