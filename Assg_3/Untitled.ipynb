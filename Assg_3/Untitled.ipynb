{
 "cells": [
  {
   "cell_type": "code",
   "execution_count": 1,
   "id": "418e3211",
   "metadata": {},
   "outputs": [],
   "source": [
    "i = 18\n",
    "s = \"\"\n",
    "for j in range(i):\n",
    "    if(j<7):\n",
    "        s += str(j+1) +' ' + str(1)+','\n",
    "    else:\n",
    "        s += str(j+1) + ' ' + str(2)+','"
   ]
  },
  {
   "cell_type": "code",
   "execution_count": 2,
   "id": "8dd6cd83",
   "metadata": {},
   "outputs": [
    {
     "name": "stdout",
     "output_type": "stream",
     "text": [
      "1 1,2 1,3 1,4 1,5 1,6 1,7 1,8 2,9 2,10 2,11 2,12 2,13 2,14 2,15 2,16 2,17 2,18 2,\n"
     ]
    }
   ],
   "source": [
    "print(s)"
   ]
  },
  {
   "cell_type": "code",
   "execution_count": null,
   "id": "63e0c8e5",
   "metadata": {},
   "outputs": [],
   "source": []
  }
 ],
 "metadata": {
  "kernelspec": {
   "display_name": "Python 3 (ipykernel)",
   "language": "python",
   "name": "python3"
  },
  "language_info": {
   "codemirror_mode": {
    "name": "ipython",
    "version": 3
   },
   "file_extension": ".py",
   "mimetype": "text/x-python",
   "name": "python",
   "nbconvert_exporter": "python",
   "pygments_lexer": "ipython3",
   "version": "3.9.7"
  }
 },
 "nbformat": 4,
 "nbformat_minor": 5
}
