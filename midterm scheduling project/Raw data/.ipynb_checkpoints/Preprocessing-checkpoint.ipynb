{
 "cells": [
  {
   "cell_type": "markdown",
   "id": "e9e5d782",
   "metadata": {},
   "source": [
    "# 0) loading data from xlsx file"
   ]
  },
  {
   "cell_type": "code",
   "execution_count": 1,
   "id": "1870df74",
   "metadata": {},
   "outputs": [],
   "source": [
    "#!pip install openpyxl\n",
    "import pandas as pd"
   ]
  },
  {
   "cell_type": "code",
   "execution_count": 2,
   "id": "7724e533",
   "metadata": {},
   "outputs": [],
   "source": [
    "df = pd.read_excel(r'Book1.xlsx')#,index_col=0,index_row=0)\n",
    "#df1 = pd.read_excel(r'Book2.xlsx')\n",
    "df1 = pd.read_excel(r'Book3.xlsx')"
   ]
  },
  {
   "cell_type": "code",
   "execution_count": 1,
   "id": "b48f5081",
   "metadata": {},
   "outputs": [],
   "source": [
    "#df.head()\n"
   ]
  },
  {
   "cell_type": "code",
   "execution_count": 2,
   "id": "ed81fbd5",
   "metadata": {},
   "outputs": [],
   "source": [
    "#df1.head()"
   ]
  },
  {
   "cell_type": "markdown",
   "id": "78216a68",
   "metadata": {},
   "source": [
    "# 1) Preprocessing "
   ]
  },
  {
   "cell_type": "markdown",
   "id": "2b7630e2",
   "metadata": {},
   "source": [
    "## 1.1 mapping Students' number to ID "
   ]
  },
  {
   "cell_type": "code",
   "execution_count": 5,
   "id": "95b77b18",
   "metadata": {},
   "outputs": [],
   "source": [
    "Number_of_student = 0 \n",
    "\n",
    "\n",
    "studentIDlist = [] # ranging from 1 to maximum number of students\n",
    "studentNumList = [] #temp lis\n",
    "\n",
    "\n",
    "for i in df1['StudentNum']:\n",
    "    if i in studentNumList:\n",
    "        studentIDlist.append(studentNumList.index(i)+1)\n",
    "    else:\n",
    "        studentNumList.append(i)\n",
    "        studentIDlist.append(len(studentNumList))\n",
    "        \n",
    "Number_of_student = max(studentIDlist)"
   ]
  },
  {
   "cell_type": "code",
   "execution_count": 3,
   "id": "e3132ce5",
   "metadata": {
    "scrolled": true
   },
   "outputs": [],
   "source": [
    "#print(studentIDlist)\n",
    "#df1['studentID'] = studentIDlist"
   ]
  },
  {
   "cell_type": "markdown",
   "id": "f3dbb837",
   "metadata": {},
   "source": [
    "## 1.2) Creating a table for Student / taken_course "
   ]
  },
  {
   "cell_type": "code",
   "execution_count": 7,
   "id": "f395bce6",
   "metadata": {},
   "outputs": [],
   "source": [
    "course_code = df['code'].values.tolist()\n",
    "num_of_courses = len(course_code)\n",
    "# studentIDlist  and also we need this variable  \n",
    "courseNumlist = df1['courseNum'].values.tolist()\n",
    "finalDF = [[0]*(num_of_courses+1) for i in range(Number_of_student)] # final data frame\n",
    "\n",
    "# finalDF[i][0] represent id of students and the rest of the list is for course \n",
    "for i in range(Number_of_student):\n",
    "    finalDF[i][0] = i+1\n",
    "for s_id, c_num in zip(studentIDlist, courseNumlist):\n",
    "    finalDF[s_id-1][course_code.index(c_num)+1] = 1"
   ]
  },
  {
   "cell_type": "code",
   "execution_count": 5,
   "id": "8a8ef421",
   "metadata": {},
   "outputs": [],
   "source": [
    "#for i in finalDF: \n",
    "#    print(i)"
   ]
  },
  {
   "cell_type": "code",
   "execution_count": 6,
   "id": "c077e45e",
   "metadata": {},
   "outputs": [
    {
     "ename": "NameError",
     "evalue": "name 'pd' is not defined",
     "output_type": "error",
     "traceback": [
      "\u001b[1;31m---------------------------------------------------------------------------\u001b[0m",
      "\u001b[1;31mNameError\u001b[0m                                 Traceback (most recent call last)",
      "\u001b[1;32m~\\AppData\\Local\\Temp/ipykernel_2452/3521909609.py\u001b[0m in \u001b[0;36m<module>\u001b[1;34m\u001b[0m\n\u001b[1;32m----> 1\u001b[1;33m \u001b[0mdf4\u001b[0m \u001b[1;33m=\u001b[0m \u001b[0mpd\u001b[0m\u001b[1;33m.\u001b[0m\u001b[0mDataFrame\u001b[0m\u001b[1;33m(\u001b[0m\u001b[0mfinalDF\u001b[0m\u001b[1;33m)\u001b[0m\u001b[1;33m\u001b[0m\u001b[1;33m\u001b[0m\u001b[0m\n\u001b[0m\u001b[0;32m      2\u001b[0m \u001b[1;31m#df4.head()\u001b[0m\u001b[1;33m\u001b[0m\u001b[1;33m\u001b[0m\u001b[0m\n",
      "\u001b[1;31mNameError\u001b[0m: name 'pd' is not defined"
     ]
    }
   ],
   "source": [
    "df4 = pd.DataFrame(finalDF)\n",
    "#df4.head()"
   ]
  },
  {
   "cell_type": "markdown",
   "id": "cdefd677",
   "metadata": {},
   "source": [
    "## 1.3) Creating CourseID/day table"
   ]
  },
  {
   "cell_type": "code",
   "execution_count": 213,
   "id": "93ae0fd0",
   "metadata": {},
   "outputs": [],
   "source": [
    "courseNum = df['code'].values.tolist()\n",
    "num_of_courses = len(course_code)\n",
    "# studentIDlist  and also we need this variable  \n",
    "days = df['days'].values.tolist()\n",
    "\n",
    "final_list = [[0]*3 for i in range(len(days)*2)]\n",
    "\n",
    "j = 0\n",
    "i = 0\n",
    "while (j < len(days)*2):\n",
    "    final_list[j][0] = i + 1 \n",
    "    final_list[j][2] = 1\n",
    "    final_list[j+1][0] = i + 1 \n",
    "    final_list[j+1][2] = 1\n",
    "    i+=1\n",
    "    j+=2\n",
    "\n"
   ]
  },
  {
   "cell_type": "code",
   "execution_count": 214,
   "id": "5b22c38b",
   "metadata": {},
   "outputs": [],
   "source": [
    "i = 0\n",
    "for day_name in days:\n",
    "    if day_name[0] == '1':\n",
    "        final_list[i][1] = 1 \n",
    "        final_list[i+1][1] = 3\n",
    "        i+=2\n",
    "    else:\n",
    "        final_list[i][1] = 2\n",
    "        final_list[i+1][1] = 4\n",
    "        i+=2\n",
    "    \n",
    "    "
   ]
  },
  {
   "cell_type": "code",
   "execution_count": 7,
   "id": "d30ba77e",
   "metadata": {},
   "outputs": [],
   "source": [
    "#print(final_list)"
   ]
  },
  {
   "cell_type": "markdown",
   "id": "89337de7",
   "metadata": {},
   "source": [
    "## 1.3) Creating CourseID/day table for two weeks"
   ]
  },
  {
   "cell_type": "code",
   "execution_count": 12,
   "id": "7f648246",
   "metadata": {},
   "outputs": [],
   "source": [
    "nw = 2 # number of weeks \n",
    "courseNum = df['code'].values.tolist()\n",
    "num_of_courses = len(course_code)\n",
    "# studentIDlist  and also we need this variable  \n",
    "days = df['days'].values.tolist()\n",
    "\n",
    "final_list = [[0]*3 for i in range(len(days)*2*nw)]\n",
    "\n",
    "j = 0\n",
    "i = 0\n",
    "while (j < len(days)*2*nw):\n",
    "    final_list[j][0] = i + 1 \n",
    "    final_list[j][2] = 1\n",
    "    final_list[j+1][0] = i + 1 \n",
    "    final_list[j+1][2] = 1\n",
    "    \n",
    "    final_list[j+2][0] = i + 1 \n",
    "    final_list[j+2][2] = 1\n",
    "    final_list[j+3][0] = i + 1 \n",
    "    final_list[j+3][2] = 1\n",
    "    i+=1\n",
    "    j+=4\n",
    "\n"
   ]
  },
  {
   "cell_type": "code",
   "execution_count": 17,
   "id": "f50ec9a3",
   "metadata": {},
   "outputs": [],
   "source": [
    "i = 0\n",
    "for day_name in days:\n",
    "    if day_name[0] == '1':\n",
    "        final_list[i][1] = 1 \n",
    "        final_list[i+1][1] = 3\n",
    "        final_list[i+2][1] = 1 +7\n",
    "        final_list[i+3][1] = 3 +7\n",
    "        i+=4\n",
    "    else:\n",
    "        final_list[i][1] = 2\n",
    "        final_list[i+1][1] = 4\n",
    "        final_list[i+2][1] = 2 + 7\n",
    "        final_list[i+3][1] = 4 + 7\n",
    "        i+=4"
   ]
  },
  {
   "cell_type": "code",
   "execution_count": 8,
   "id": "58e6aa80",
   "metadata": {},
   "outputs": [],
   "source": [
    "#final_list"
   ]
  },
  {
   "cell_type": "markdown",
   "id": "799da5de",
   "metadata": {},
   "source": [
    "#  2 Dump Data From to XLSX"
   ]
  },
  {
   "cell_type": "code",
   "execution_count": 77,
   "id": "5b578f6f",
   "metadata": {},
   "outputs": [],
   "source": [
    "#!pip install xlsxwriter\n",
    "import pandas as pd\n",
    "\n",
    "new_list = [[\"first\", \"second\"], [\"third\", \"four\"], [\"five\", \"six\"]]\n",
    "df6 = pd.DataFrame(new_list)\n",
    "writer = pd.ExcelWriter('test.xlsx', engine='xlsxwriter')\n",
    "df5.to_excel(writer, sheet_name='welcome', index=False)\n",
    "writer.save()"
   ]
  },
  {
   "cell_type": "code",
   "execution_count": 78,
   "id": "c85d4240",
   "metadata": {},
   "outputs": [
    {
     "data": {
      "text/html": [
       "<div>\n",
       "<style scoped>\n",
       "    .dataframe tbody tr th:only-of-type {\n",
       "        vertical-align: middle;\n",
       "    }\n",
       "\n",
       "    .dataframe tbody tr th {\n",
       "        vertical-align: top;\n",
       "    }\n",
       "\n",
       "    .dataframe thead th {\n",
       "        text-align: right;\n",
       "    }\n",
       "</style>\n",
       "<table border=\"1\" class=\"dataframe\">\n",
       "  <thead>\n",
       "    <tr style=\"text-align: right;\">\n",
       "      <th></th>\n",
       "      <th>0</th>\n",
       "      <th>1</th>\n",
       "    </tr>\n",
       "  </thead>\n",
       "  <tbody>\n",
       "    <tr>\n",
       "      <th>0</th>\n",
       "      <td>first</td>\n",
       "      <td>second</td>\n",
       "    </tr>\n",
       "    <tr>\n",
       "      <th>1</th>\n",
       "      <td>third</td>\n",
       "      <td>four</td>\n",
       "    </tr>\n",
       "    <tr>\n",
       "      <th>2</th>\n",
       "      <td>five</td>\n",
       "      <td>six</td>\n",
       "    </tr>\n",
       "  </tbody>\n",
       "</table>\n",
       "</div>"
      ],
      "text/plain": [
       "       0       1\n",
       "0  first  second\n",
       "1  third    four\n",
       "2   five     six"
      ]
     },
     "execution_count": 78,
     "metadata": {},
     "output_type": "execute_result"
    }
   ],
   "source": [
    "df6.head()"
   ]
  },
  {
   "cell_type": "code",
   "execution_count": 95,
   "id": "42bb7c02",
   "metadata": {},
   "outputs": [],
   "source": [
    "writer = pd.ExcelWriter('Book3.xlsx', engine='xlsxwriter')\n",
    "df1.to_excel(writer, sheet_name='Book3', index=False)\n",
    "writer.save()"
   ]
  },
  {
   "cell_type": "code",
   "execution_count": 101,
   "id": "57ef432e",
   "metadata": {},
   "outputs": [],
   "source": [
    "##\n",
    "## we might need to iterate over a pandas dataframe in this way: \n",
    "##\n",
    "## for i, j in zip(df['code'], df['days']):\n",
    "##    print(\"i is {} and j is {}\".format(i,j))\n",
    "##    \n",
    "## */"
   ]
  },
  {
   "cell_type": "code",
   "execution_count": 194,
   "id": "f98a8809",
   "metadata": {},
   "outputs": [],
   "source": [
    "writer = pd.ExcelWriter('Book4.xlsx', engine='xlsxwriter')\n",
    "df4.to_excel(writer, sheet_name='Book4', index=False)\n",
    "writer.save()"
   ]
  },
  {
   "cell_type": "code",
   "execution_count": 217,
   "id": "6bb9f714",
   "metadata": {},
   "outputs": [
    {
     "data": {
      "text/html": [
       "<div>\n",
       "<style scoped>\n",
       "    .dataframe tbody tr th:only-of-type {\n",
       "        vertical-align: middle;\n",
       "    }\n",
       "\n",
       "    .dataframe tbody tr th {\n",
       "        vertical-align: top;\n",
       "    }\n",
       "\n",
       "    .dataframe thead th {\n",
       "        text-align: right;\n",
       "    }\n",
       "</style>\n",
       "<table border=\"1\" class=\"dataframe\">\n",
       "  <thead>\n",
       "    <tr style=\"text-align: right;\">\n",
       "      <th></th>\n",
       "      <th>0</th>\n",
       "      <th>1</th>\n",
       "      <th>2</th>\n",
       "    </tr>\n",
       "  </thead>\n",
       "  <tbody>\n",
       "    <tr>\n",
       "      <th>0</th>\n",
       "      <td>1</td>\n",
       "      <td>1</td>\n",
       "      <td>1</td>\n",
       "    </tr>\n",
       "    <tr>\n",
       "      <th>1</th>\n",
       "      <td>1</td>\n",
       "      <td>3</td>\n",
       "      <td>1</td>\n",
       "    </tr>\n",
       "    <tr>\n",
       "      <th>2</th>\n",
       "      <td>2</td>\n",
       "      <td>2</td>\n",
       "      <td>1</td>\n",
       "    </tr>\n",
       "    <tr>\n",
       "      <th>3</th>\n",
       "      <td>2</td>\n",
       "      <td>4</td>\n",
       "      <td>1</td>\n",
       "    </tr>\n",
       "    <tr>\n",
       "      <th>4</th>\n",
       "      <td>3</td>\n",
       "      <td>1</td>\n",
       "      <td>1</td>\n",
       "    </tr>\n",
       "  </tbody>\n",
       "</table>\n",
       "</div>"
      ],
      "text/plain": [
       "   0  1  2\n",
       "0  1  1  1\n",
       "1  1  3  1\n",
       "2  2  2  1\n",
       "3  2  4  1\n",
       "4  3  1  1"
      ]
     },
     "execution_count": 217,
     "metadata": {},
     "output_type": "execute_result"
    }
   ],
   "source": [
    "df5 = pd.DataFrame(final_list)\n",
    "df5.head()"
   ]
  },
  {
   "cell_type": "code",
   "execution_count": 218,
   "id": "92fb0f84",
   "metadata": {},
   "outputs": [],
   "source": [
    "writer = pd.ExcelWriter('Book5.xlsx', engine='xlsxwriter')\n",
    "df5.to_excel(writer, sheet_name='Book5', index=False)\n",
    "writer.save()"
   ]
  },
  {
   "cell_type": "code",
   "execution_count": 19,
   "id": "6a9ff84f",
   "metadata": {},
   "outputs": [
    {
     "data": {
      "text/html": [
       "<div>\n",
       "<style scoped>\n",
       "    .dataframe tbody tr th:only-of-type {\n",
       "        vertical-align: middle;\n",
       "    }\n",
       "\n",
       "    .dataframe tbody tr th {\n",
       "        vertical-align: top;\n",
       "    }\n",
       "\n",
       "    .dataframe thead th {\n",
       "        text-align: right;\n",
       "    }\n",
       "</style>\n",
       "<table border=\"1\" class=\"dataframe\">\n",
       "  <thead>\n",
       "    <tr style=\"text-align: right;\">\n",
       "      <th></th>\n",
       "      <th>0</th>\n",
       "      <th>1</th>\n",
       "      <th>2</th>\n",
       "    </tr>\n",
       "  </thead>\n",
       "  <tbody>\n",
       "    <tr>\n",
       "      <th>0</th>\n",
       "      <td>1</td>\n",
       "      <td>1</td>\n",
       "      <td>1</td>\n",
       "    </tr>\n",
       "    <tr>\n",
       "      <th>1</th>\n",
       "      <td>1</td>\n",
       "      <td>3</td>\n",
       "      <td>1</td>\n",
       "    </tr>\n",
       "    <tr>\n",
       "      <th>2</th>\n",
       "      <td>1</td>\n",
       "      <td>8</td>\n",
       "      <td>1</td>\n",
       "    </tr>\n",
       "    <tr>\n",
       "      <th>3</th>\n",
       "      <td>1</td>\n",
       "      <td>10</td>\n",
       "      <td>1</td>\n",
       "    </tr>\n",
       "    <tr>\n",
       "      <th>4</th>\n",
       "      <td>2</td>\n",
       "      <td>2</td>\n",
       "      <td>1</td>\n",
       "    </tr>\n",
       "  </tbody>\n",
       "</table>\n",
       "</div>"
      ],
      "text/plain": [
       "   0   1  2\n",
       "0  1   1  1\n",
       "1  1   3  1\n",
       "2  1   8  1\n",
       "3  1  10  1\n",
       "4  2   2  1"
      ]
     },
     "execution_count": 19,
     "metadata": {},
     "output_type": "execute_result"
    }
   ],
   "source": [
    "df6 = pd.DataFrame(final_list)\n",
    "df6.head()"
   ]
  },
  {
   "cell_type": "code",
   "execution_count": 21,
   "id": "bee810ec",
   "metadata": {},
   "outputs": [],
   "source": [
    "writer = pd.ExcelWriter('Book6.xlsx', engine='xlsxwriter')\n",
    "df6.to_excel(writer, sheet_name='Book6', index=False)\n",
    "writer.save()"
   ]
  },
  {
   "cell_type": "code",
   "execution_count": null,
   "id": "425b12c1",
   "metadata": {},
   "outputs": [],
   "source": []
  }
 ],
 "metadata": {
  "kernelspec": {
   "display_name": "Python 3 (ipykernel)",
   "language": "python",
   "name": "python3"
  },
  "language_info": {
   "codemirror_mode": {
    "name": "ipython",
    "version": 3
   },
   "file_extension": ".py",
   "mimetype": "text/x-python",
   "name": "python",
   "nbconvert_exporter": "python",
   "pygments_lexer": "ipython3",
   "version": "3.9.7"
  }
 },
 "nbformat": 4,
 "nbformat_minor": 5
}
