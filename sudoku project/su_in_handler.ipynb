{
  "nbformat": 4,
  "nbformat_minor": 0,
  "metadata": {
    "colab": {
      "name": "sudoku_in.ipynb",
      "provenance": [],
      "collapsed_sections": []
    },
    "kernelspec": {
      "name": "python3",
      "display_name": "Python 3"
    },
    "language_info": {
      "name": "python"
    }
  },
  "cells": [
    {
      "cell_type": "markdown",
      "source": [
        "# Result can be used to directly feed gams with input!"
      ],
      "metadata": {
        "id": "ooPO3L1dNBh9"
      }
    },
    {
      "cell_type": "code",
      "source": [
        "strr = \"(1, 1, 8) (1, 4, 6) (1, 7, 9) (1, 9, 5) (3, 5, 2) (3, 7, 3) (3, 8, 1) (4, 3, 7) (4, 4, 3) (4, 5, 1)(4, 6, 8) (4, 8, 6) (5, 1, 2) (5, 2, 4) (5, 8, 7)(5, 9, 3) (7, 3, 2) (7, 4, 7) (7, 5, 9) (7, 7, 1) (8, 1, 5) (8, 5, 8) (8, 8, 3) (8, 9, 6) (9, 3, 3)\""
      ],
      "metadata": {
        "id": "Mv5rgLuUMyFI"
      },
      "execution_count": null,
      "outputs": []
    },
    {
      "cell_type": "code",
      "source": [
        "result = ''\n",
        "for i in range(len(strr)):\n",
        "    if strr[i] == '(':\n",
        "        result += (strr[i+1] + '.'+ strr[i+4] + '.'+strr[i+7]+ ' ' +\"1\" +',')\n",
        "        \n",
        "result = '/' + result[:-1] + '/'  \n",
        "print(result)"
      ],
      "metadata": {
        "id": "7IC1oEFfM00P"
      },
      "execution_count": null,
      "outputs": []
    },
    {
      "cell_type": "markdown",
      "source": [
        "# Creating su_in EXCEL file for gams  "
      ],
      "metadata": {
        "id": "jftOEliWM99E"
      }
    },
    {
      "cell_type": "code",
      "source": [
        "# strr is our input code\n",
        "strr = [(1, 1, 8), (1, 4, 6), (1, 7, 9), (1, 9, 5) ,(3, 5, 2), (3, 7, 3), (3, 8, 1) ,(4, 3, 7), (4, 4, 3), (4, 5, 1),(4, 6, 8), (4, 8, 6) ,(5, 1, 2), (5, 2, 4), (5, 8, 7),(5, 9, 3), (7, 3, 2), (7, 4, 7), (7, 5, 9), (7, 7, 1), (8, 1, 5) ,(8, 5, 8), (8, 8, 3) ,(8, 9, 6) ,(9, 3, 3)]\n",
        "\n",
        "out_list = [[s[0],s[1],s[2],1] for s in strr]\n",
        "\n",
        "print(out_list)"
      ],
      "metadata": {
        "id": "AI55CGnzM6vt"
      },
      "execution_count": null,
      "outputs": []
    },
    {
      "cell_type": "code",
      "source": [
        "import pandas as pd\n",
        "\n",
        "df = pd.DataFrame(out_list)\n",
        "writer = pd.ExcelWriter('su_inpy.xlsx', engine='xlsxwriter')\n",
        "df.to_excel(writer, sheet_name='su_in_py', index=False, header=False)\n",
        "writer.save()"
      ],
      "metadata": {
        "id": "k8ns6nhFNIGz"
      },
      "execution_count": null,
      "outputs": []
    }
  ]
}